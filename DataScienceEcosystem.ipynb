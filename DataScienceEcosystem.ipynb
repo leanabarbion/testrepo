{
 "cells": [
  {
   "cell_type": "markdown",
   "id": "a8f3909b",
   "metadata": {},
   "source": [
    "# Data Science Tools and Ecosystem"
   ]
  },
  {
   "cell_type": "markdown",
   "id": "8504dd69",
   "metadata": {},
   "source": [
    "Image:![2-title.png](/Users/leana/Desktop/2-title.png)"
   ]
  },
  {
   "cell_type": "markdown",
   "id": "3dffb21a",
   "metadata": {},
   "source": [
    "In this notebook, Data Science Tools and Ecosystem are summarized."
   ]
  },
  {
   "cell_type": "markdown",
   "id": "8e69f9e5",
   "metadata": {},
   "source": [
    "Some of the popular languages that Data Scientists use are:\n",
    "1. Python \n",
    "2. JavaScript\n",
    "3. C++\n"
   ]
  },
  {
   "cell_type": "markdown",
   "id": "72ab8be0",
   "metadata": {},
   "source": [
    "| Data Science Tools |\n",
    "|------------------|\n",
    "| Jupyter Notebook |\n",
    "| Github |\n",
    "| RStudio |"
   ]
  },
  {
   "cell_type": "markdown",
   "id": "0acba7eb",
   "metadata": {},
   "source": [
    "### Below are a few examples of evaluating arithmetic expressions in Python "
   ]
  },
  {
   "cell_type": "code",
   "execution_count": 3,
   "id": "326f534b",
   "metadata": {},
   "outputs": [
    {
     "data": {
      "text/plain": [
       "17"
      ]
     },
     "execution_count": 3,
     "metadata": {},
     "output_type": "execute_result"
    }
   ],
   "source": [
    "#This a simple arithmetic expression to mutiply then add integers\n",
    "def mult_add(x,y,z):\n",
    "    formula = (x*y)+z\n",
    "    return formula\n",
    "mult_add(3,4,5)"
   ]
  },
  {
   "cell_type": "code",
   "execution_count": 4,
   "id": "4c8c2591",
   "metadata": {},
   "outputs": [
    {
     "data": {
      "text/plain": [
       "3.3333333333333335"
      ]
     },
     "execution_count": 4,
     "metadata": {},
     "output_type": "execute_result"
    }
   ],
   "source": [
    "#This will convert 200 minutes to hours by diving by 60\n",
    "\n",
    "def convert_min_to_hours(minute):\n",
    "    formula = minute/60\n",
    "    return formula\n",
    "convert_min_to_hours(200)"
   ]
  },
  {
   "cell_type": "markdown",
   "id": "87f8eaf5",
   "metadata": {},
   "source": [
    "## Author"
   ]
  },
  {
   "cell_type": "markdown",
   "id": "4e1cd04e",
   "metadata": {},
   "source": [
    "Leana"
   ]
  },
  {
   "cell_type": "code",
   "execution_count": null,
   "id": "8b3cfa53",
   "metadata": {},
   "outputs": [],
   "source": []
  }
 ],
 "metadata": {
  "kernelspec": {
   "display_name": "Python 3 (ipykernel)",
   "language": "python",
   "name": "python3"
  },
  "language_info": {
   "codemirror_mode": {
    "name": "ipython",
    "version": 3
   },
   "file_extension": ".py",
   "mimetype": "text/x-python",
   "name": "python",
   "nbconvert_exporter": "python",
   "pygments_lexer": "ipython3",
   "version": "3.11.5"
  }
 },
 "nbformat": 4,
 "nbformat_minor": 5
}
